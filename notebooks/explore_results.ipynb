{
 "cells": [
  {
   "cell_type": "code",
   "execution_count": 1,
   "metadata": {},
   "outputs": [],
   "source": [
    "import json \n",
    "from dataclasses import dataclass \n",
    "import pandas as pd \n",
    "import matplotlib.pyplot as plt "
   ]
  },
  {
   "cell_type": "code",
   "execution_count": 4,
   "metadata": {},
   "outputs": [],
   "source": [
    "@dataclass\n",
    "class ModelData:\n",
    "    model_name: str \n",
    "    model_path: str \n",
    "    is_instr: bool \n",
    "    is_reinit: bool \n",
    "    is_full: bool \n",
    "    model_size: str \n",
    "    prediction: str \n",
    "    label: str \n",
    "    correct: bool \n",
    "    qlora: bool "
   ]
  },
  {
   "cell_type": "code",
   "execution_count": 5,
   "metadata": {},
   "outputs": [],
   "source": [
    "def check_score(text, label):\n",
    "    other_label = '0' if label == '1' else '1'\n",
    "    label_char = 'A' if label == '0' else 'B'\n",
    "    other_label_char = 'B' if label == '0' else 'A'\n",
    "    if (text[0] == 'A') and (label == '0'):\n",
    "        return 1\n",
    "    if (text[0] == 'B') and (label == '1'):\n",
    "        return 1\n",
    "    if f'{label}.' in text or f' {label}' in text.lower() or f'{label}' == text.strip() or f'\\n{label}' in text.lower() or text.startswith(label) or text.strip().startswith(label_char):\n",
    "        return 1\n",
    "    elif f'{other_label}.' in text or f' {other_label}' in text.lower() or f'{other_label}' == text.strip() or f'\\n{other_label}' in text.lower() or text.startswith(other_label) or text.strip().startswith(other_label_char):\n",
    "        return 0\n",
    "    elif str(label) == '0':\n",
    "        if 'A.' in text:\n",
    "            return 1 \n",
    "    elif str(label) == '1':\n",
    "        if 'B.' in text:\n",
    "            return 1\n",
    "    return None\n"
   ]
  },
  {
   "cell_type": "code",
   "execution_count": 75,
   "metadata": {},
   "outputs": [],
   "source": [
    "models = ['llama-3.1-8b', 'llama-3.2-1b', 'qlora-llama-3.1-8b', 'qlora-llama-3.2-1b', 'qlora-llama-3.2-3b-instruct','qlora-llama-3.1-8b-instruct', 'qlora-llama-3.1-3b-instruct-full', '3b_qlora_single_device_instruct-reinit', 'llama-3.2-1b-instruct','llama-3.2-3b', 'llama-3.2-3b-instruct','llama-3.2-8b-instruct', 'qlora-llama-3.2-1b-instruct', 'qlora-llama-3.2-3b']\n",
    "\n",
    "model_name_mapping = {\n",
    "    'qlora-llama-3.1-8b-instruct': 'llama-3.1-8b',\n",
    "    'qlora-llama-3.1-3b-instruct-full': 'llama-3.2-3b',\n",
    "    'qlora-llama-3.2-1b': 'llama-3.2-1b',\n",
    "    'qlora-llama-3.2-3b-instruct': 'llama-3.2-3b',\n",
    "    '3b_qlora_single_device_instruct-reinit': 'llama-3.2-3b',\n",
    "    'qlora-llama-3.1-8b-instruct': 'llama-3.1-8b',\n",
    "    'qlora-llama-3.1-3b-instruct-full': 'llama-3.2-3b',\n",
    "    'llama-3.1-8b': 'llama-3.1-8b',\n",
    "    'llama-3.2-3b': 'llama-3.2-3b',\n",
    "    'llama-3.2-1b': 'llama-3.2-1b',\n",
    "    'qlora-llama-3.1-8b': 'llama-3.1-8b',\n",
    "    'llama-3.2-8b-instruct': 'llama-3.1-8b',\n",
    "    'llama-3.2-1b-instruct': 'llama-3.2-1b',\n",
    "    'llama-3.2-3b-instruct': 'llama-3.2-3b',\n",
    "    'qlora-llama-3.2-1b-instruct': 'llama-3.2-1b',\n",
    "    'qlora-llama-3.2-3b': 'llama-3.2-3b',\n",
    "}\n",
    "\n",
    "\n",
    "model_size_mapping = {\n",
    "    'llama-3.1-8b': 8,\n",
    "    'llama-3.2-1b': 1,\n",
    "    'llama-3.2-3b': 3,\n",
    "}\n",
    "\n",
    "test_name = 'test.json'\n",
    "\n",
    "data_list = []\n",
    "for model in models:\n",
    "    with open(f'../train_data/predictions/{model}/{test_name}', 'r') as f:\n",
    "        data = json.load(f)\n",
    "        for text, label in zip(data['predictions'], data['labels']):\n",
    "            label = str(label)\n",
    "            if model == '3b_qlora_single_device_instruct-reinit':\n",
    "                is_reinit = True\n",
    "                qlora = True\n",
    "                is_instr = True\n",
    "            elif model == 'qlora-llama-3.1-3b-instruct-full':\n",
    "                is_full = True\n",
    "                qlora = True\n",
    "            else:\n",
    "                is_reinit = False\n",
    "                is_full = False\n",
    "                qlora = 'qlora' in model\n",
    "            model_name = model_name_mapping[model]  \n",
    "            model_size = model_size_mapping[model_name]\n",
    "            data_list.append(ModelData(model_name=model_name, model_path=model, is_instr=model.endswith('instruct'), model_size=model_size, prediction=text, label=label, correct=check_score(text, label), is_reinit=is_reinit, is_full=is_full, qlora=qlora))\n",
    "\n",
    "\n"
   ]
  },
  {
   "cell_type": "code",
   "execution_count": 76,
   "metadata": {},
   "outputs": [],
   "source": [
    "keys = ['model_name', 'is_instr', 'is_reinit', 'is_full']\n",
    "# model size effect "
   ]
  },
  {
   "cell_type": "code",
   "execution_count": 77,
   "metadata": {},
   "outputs": [],
   "source": [
    "df = pd.DataFrame(data_list)\n",
    "df['correct'] = df['correct'].fillna('none')\n",
    "only_ans = df[df['correct']!='none']"
   ]
  },
  {
   "cell_type": "code",
   "execution_count": 78,
   "metadata": {},
   "outputs": [
    {
     "name": "stdout",
     "output_type": "stream",
     "text": [
      "\\begin{tabular}{lrr}\n",
      "\\toprule\n",
      " & \\multicolumn{2}{r}{is_error} \\\\\n",
      "is_instr & False & True \\\\\n",
      "model_name &  &  \\\\\n",
      "\\midrule\n",
      "llama-3.1-8b & 0.000000 & 0.740000 \\\\\n",
      "llama-3.2-1b & 0.000000 & 0.295000 \\\\\n",
      "llama-3.2-3b & 0.000000 & 0.000000 \\\\\n",
      "\\bottomrule\n",
      "\\end{tabular}\n",
      "\n"
     ]
    }
   ],
   "source": [
    "df['is_error'] = df['correct'] == 'none'\n",
    "print(df[(df['qlora'] == False) & (df['is_full'] == False) & (df['is_reinit'] == False)].groupby(['model_name','is_instr'])['is_error'].mean().reset_index().pivot(index='model_name', columns = 'is_instr').to_latex())"
   ]
  },
  {
   "cell_type": "code",
   "execution_count": 79,
   "metadata": {},
   "outputs": [],
   "source": [
    "# Add this code to your notebook\n",
    "result_df = df[(df['qlora'] == False) & (df['is_full'] == False) & (df['is_reinit'] == False)].groupby(['model_name','is_instr'])['is_error'].mean().reset_index().pivot(index='model_name', columns = 'is_instr')\n",
    "html_table = result_df.to_html()\n",
    "\n",
    "# Save to a file\n",
    "with open('table_for_google_docs.html', 'w') as f:\n",
    "    f.write(html_table)"
   ]
  },
  {
   "cell_type": "code",
   "execution_count": 80,
   "metadata": {},
   "outputs": [],
   "source": [
    "df['model_path'] = df['model_path'].apply(lambda x: 'llama-3.1-8b-instruct' if x == 'llama-3.2-8b-instruct' else x)"
   ]
  },
  {
   "cell_type": "code",
   "execution_count": 81,
   "metadata": {},
   "outputs": [
    {
     "data": {
      "text/html": [
       "<div>\n",
       "<style scoped>\n",
       "    .dataframe tbody tr th:only-of-type {\n",
       "        vertical-align: middle;\n",
       "    }\n",
       "\n",
       "    .dataframe tbody tr th {\n",
       "        vertical-align: top;\n",
       "    }\n",
       "\n",
       "    .dataframe thead th {\n",
       "        text-align: right;\n",
       "    }\n",
       "</style>\n",
       "<table border=\"1\" class=\"dataframe\">\n",
       "  <thead>\n",
       "    <tr style=\"text-align: right;\">\n",
       "      <th></th>\n",
       "      <th>model_name</th>\n",
       "      <th>model_path</th>\n",
       "      <th>is_instr</th>\n",
       "      <th>is_reinit</th>\n",
       "      <th>is_full</th>\n",
       "      <th>model_size</th>\n",
       "      <th>prediction</th>\n",
       "      <th>label</th>\n",
       "      <th>correct</th>\n",
       "      <th>qlora</th>\n",
       "      <th>is_error</th>\n",
       "    </tr>\n",
       "  </thead>\n",
       "  <tbody>\n",
       "    <tr>\n",
       "      <th>0</th>\n",
       "      <td>llama-3.1-8b</td>\n",
       "      <td>llama-3.1-8b</td>\n",
       "      <td>False</td>\n",
       "      <td>False</td>\n",
       "      <td>False</td>\n",
       "      <td>8</td>\n",
       "      <td>B\\n</td>\n",
       "      <td>0</td>\n",
       "      <td>0.0</td>\n",
       "      <td>False</td>\n",
       "      <td>False</td>\n",
       "    </tr>\n",
       "    <tr>\n",
       "      <th>1</th>\n",
       "      <td>llama-3.1-8b</td>\n",
       "      <td>llama-3.1-8b</td>\n",
       "      <td>False</td>\n",
       "      <td>False</td>\n",
       "      <td>False</td>\n",
       "      <td>8</td>\n",
       "      <td>A\\nExplanation: The on the information provid...</td>\n",
       "      <td>0</td>\n",
       "      <td>1.0</td>\n",
       "      <td>False</td>\n",
       "      <td>False</td>\n",
       "    </tr>\n",
       "    <tr>\n",
       "      <th>2</th>\n",
       "      <td>llama-3.1-8b</td>\n",
       "      <td>llama-3.1-8b</td>\n",
       "      <td>False</td>\n",
       "      <td>False</td>\n",
       "      <td>False</td>\n",
       "      <td>8</td>\n",
       "      <td>B.Explanation: The person is a42 years old, w...</td>\n",
       "      <td>1</td>\n",
       "      <td>1.0</td>\n",
       "      <td>False</td>\n",
       "      <td>False</td>\n",
       "    </tr>\n",
       "    <tr>\n",
       "      <th>3</th>\n",
       "      <td>llama-3.1-8b</td>\n",
       "      <td>llama-3.1-8b</td>\n",
       "      <td>False</td>\n",
       "      <td>False</td>\n",
       "      <td>False</td>\n",
       "      <td>8</td>\n",
       "      <td>B\\nExplanation: The person yearly income is a...</td>\n",
       "      <td>0</td>\n",
       "      <td>1.0</td>\n",
       "      <td>False</td>\n",
       "      <td>False</td>\n",
       "    </tr>\n",
       "    <tr>\n",
       "      <th>4</th>\n",
       "      <td>llama-3.1-8b</td>\n",
       "      <td>llama-3.1-8b</td>\n",
       "      <td>False</td>\n",
       "      <td>False</td>\n",
       "      <td>False</td>\n",
       "      <td>8</td>\n",
       "      <td>B\\n</td>\n",
       "      <td>1</td>\n",
       "      <td>1.0</td>\n",
       "      <td>False</td>\n",
       "      <td>False</td>\n",
       "    </tr>\n",
       "    <tr>\n",
       "      <th>...</th>\n",
       "      <td>...</td>\n",
       "      <td>...</td>\n",
       "      <td>...</td>\n",
       "      <td>...</td>\n",
       "      <td>...</td>\n",
       "      <td>...</td>\n",
       "      <td>...</td>\n",
       "      <td>...</td>\n",
       "      <td>...</td>\n",
       "      <td>...</td>\n",
       "      <td>...</td>\n",
       "    </tr>\n",
       "    <tr>\n",
       "      <th>2795</th>\n",
       "      <td>llama-3.2-3b</td>\n",
       "      <td>qlora-llama-3.2-3b</td>\n",
       "      <td>False</td>\n",
       "      <td>False</td>\n",
       "      <td>False</td>\n",
       "      <td>3</td>\n",
       "      <td>0</td>\n",
       "      <td>0</td>\n",
       "      <td>1.0</td>\n",
       "      <td>True</td>\n",
       "      <td>False</td>\n",
       "    </tr>\n",
       "    <tr>\n",
       "      <th>2796</th>\n",
       "      <td>llama-3.2-3b</td>\n",
       "      <td>qlora-llama-3.2-3b</td>\n",
       "      <td>False</td>\n",
       "      <td>False</td>\n",
       "      <td>False</td>\n",
       "      <td>3</td>\n",
       "      <td>0</td>\n",
       "      <td>0</td>\n",
       "      <td>1.0</td>\n",
       "      <td>True</td>\n",
       "      <td>False</td>\n",
       "    </tr>\n",
       "    <tr>\n",
       "      <th>2797</th>\n",
       "      <td>llama-3.2-3b</td>\n",
       "      <td>qlora-llama-3.2-3b</td>\n",
       "      <td>False</td>\n",
       "      <td>False</td>\n",
       "      <td>False</td>\n",
       "      <td>3</td>\n",
       "      <td>0</td>\n",
       "      <td>0</td>\n",
       "      <td>1.0</td>\n",
       "      <td>True</td>\n",
       "      <td>False</td>\n",
       "    </tr>\n",
       "    <tr>\n",
       "      <th>2798</th>\n",
       "      <td>llama-3.2-3b</td>\n",
       "      <td>qlora-llama-3.2-3b</td>\n",
       "      <td>False</td>\n",
       "      <td>False</td>\n",
       "      <td>False</td>\n",
       "      <td>3</td>\n",
       "      <td>0</td>\n",
       "      <td>0</td>\n",
       "      <td>1.0</td>\n",
       "      <td>True</td>\n",
       "      <td>False</td>\n",
       "    </tr>\n",
       "    <tr>\n",
       "      <th>2799</th>\n",
       "      <td>llama-3.2-3b</td>\n",
       "      <td>qlora-llama-3.2-3b</td>\n",
       "      <td>False</td>\n",
       "      <td>False</td>\n",
       "      <td>False</td>\n",
       "      <td>3</td>\n",
       "      <td>0</td>\n",
       "      <td>0</td>\n",
       "      <td>1.0</td>\n",
       "      <td>True</td>\n",
       "      <td>False</td>\n",
       "    </tr>\n",
       "  </tbody>\n",
       "</table>\n",
       "<p>2800 rows × 11 columns</p>\n",
       "</div>"
      ],
      "text/plain": [
       "        model_name          model_path  is_instr  is_reinit  is_full  \\\n",
       "0     llama-3.1-8b        llama-3.1-8b     False      False    False   \n",
       "1     llama-3.1-8b        llama-3.1-8b     False      False    False   \n",
       "2     llama-3.1-8b        llama-3.1-8b     False      False    False   \n",
       "3     llama-3.1-8b        llama-3.1-8b     False      False    False   \n",
       "4     llama-3.1-8b        llama-3.1-8b     False      False    False   \n",
       "...            ...                 ...       ...        ...      ...   \n",
       "2795  llama-3.2-3b  qlora-llama-3.2-3b     False      False    False   \n",
       "2796  llama-3.2-3b  qlora-llama-3.2-3b     False      False    False   \n",
       "2797  llama-3.2-3b  qlora-llama-3.2-3b     False      False    False   \n",
       "2798  llama-3.2-3b  qlora-llama-3.2-3b     False      False    False   \n",
       "2799  llama-3.2-3b  qlora-llama-3.2-3b     False      False    False   \n",
       "\n",
       "      model_size                                         prediction label  \\\n",
       "0              8                                                B\\n     0   \n",
       "1              8   A\\nExplanation: The on the information provid...     0   \n",
       "2              8   B.Explanation: The person is a42 years old, w...     1   \n",
       "3              8   B\\nExplanation: The person yearly income is a...     0   \n",
       "4              8                                                B\\n     1   \n",
       "...          ...                                                ...   ...   \n",
       "2795           3                                                  0     0   \n",
       "2796           3                                                  0     0   \n",
       "2797           3                                                  0     0   \n",
       "2798           3                                                  0     0   \n",
       "2799           3                                                  0     0   \n",
       "\n",
       "     correct  qlora  is_error  \n",
       "0        0.0  False     False  \n",
       "1        1.0  False     False  \n",
       "2        1.0  False     False  \n",
       "3        1.0  False     False  \n",
       "4        1.0  False     False  \n",
       "...      ...    ...       ...  \n",
       "2795     1.0   True     False  \n",
       "2796     1.0   True     False  \n",
       "2797     1.0   True     False  \n",
       "2798     1.0   True     False  \n",
       "2799     1.0   True     False  \n",
       "\n",
       "[2800 rows x 11 columns]"
      ]
     },
     "execution_count": 81,
     "metadata": {},
     "output_type": "execute_result"
    }
   ],
   "source": [
    "df"
   ]
  },
  {
   "cell_type": "code",
   "execution_count": 82,
   "metadata": {},
   "outputs": [
    {
     "data": {
      "text/plain": [
       "label\n",
       "0    1876\n",
       "1     924\n",
       "Name: label, dtype: int64"
      ]
     },
     "execution_count": 82,
     "metadata": {},
     "output_type": "execute_result"
    }
   ],
   "source": [
    "df.groupby(['label'])['label'].count()"
   ]
  },
  {
   "cell_type": "code",
   "execution_count": 83,
   "metadata": {},
   "outputs": [
    {
     "data": {
      "image/png": "[encoded data removed]",
      "text/plain": [
       "<Figure size 640x480 with 1 Axes>"
      ]
     },
     "metadata": {},
     "output_type": "display_data"
    }
   ],
   "source": [
    "# zeroshot performance base\n",
    "fig, ax = plt.subplots()\n",
    "zero_shot = df[(df['is_instr']==True) & (df['qlora']==False)]\n",
    "zero_shot = zero_shot[zero_shot['correct']!='none']\n",
    "zero_shot.groupby(['model_path'])['correct'].mean().plot(kind='bar', ax=ax)\n",
    "ax.set_title('Zeroshot Performance - Instruct')\n",
    "ax.set_xticklabels(ax.get_xticklabels(), rotation=45)\n",
    "ax.set_xlabel('Model')\n",
    "ax.set_ylabel('Accuracy')\n",
    "ax.spines['top'].set_visible(False)\n",
    "ax.spines['right'].set_visible(False)\n",
    "plt.savefig('../plots/zeroshot_instruct.jpg', dpi=300, bbox_inches='tight')\n",
    "plt.show()\n",
    "\n"
   ]
  },
  {
   "cell_type": "code",
   "execution_count": 84,
   "metadata": {},
   "outputs": [
    {
     "data": {
      "image/png": "[encoded data removed]",
      "text/plain": [
       "<Figure size 640x480 with 1 Axes>"
      ]
     },
     "metadata": {},
     "output_type": "display_data"
    }
   ],
   "source": [
    "# zeroshot performance base\n",
    "fig, ax = plt.subplots()\n",
    "\n",
    "zero_shot = df[(df['is_instr']==False) & (df['is_full']==False) & (df['is_reinit']==False) & (df['qlora']==False)]\n",
    "zero_shot.groupby(['model_path'])['correct'].mean().plot(kind='bar', ax=ax)\n",
    "ax.set_title('Zeroshot Performance - Base')\n",
    "ax.set_xticklabels(ax.get_xticklabels(), rotation=45)\n",
    "ax.set_xlabel('Model')\n",
    "ax.set_ylabel('Accuracy')\n",
    "ax.spines['top'].set_visible(False)\n",
    "ax.spines['right'].set_visible(False)\n",
    "plt.savefig('../plots/zeroshot_base.jpg', dpi=300, bbox_inches='tight')\n",
    "plt.show()\n"
   ]
  },
  {
   "cell_type": "code",
   "execution_count": 85,
   "metadata": {},
   "outputs": [],
   "source": [
    "is_instr = df[(df['is_instr']==True) & (df['is_full']==False) & (df['is_reinit']==False) & (df['qlora']==True)]"
   ]
  },
  {
   "cell_type": "code",
   "execution_count": 86,
   "metadata": {},
   "outputs": [
    {
     "data": {
      "text/plain": [
       "<Axes: xlabel='model_name'>"
      ]
     },
     "execution_count": 86,
     "metadata": {},
     "output_type": "execute_result"
    },
    {
     "data": {
      "image/png": "[encoded data removed]",
      "text/plain": [
       "<Figure size 640x480 with 1 Axes>"
      ]
     },
     "metadata": {},
     "output_type": "display_data"
    }
   ],
   "source": [
    "is_instr.groupby(['model_name'])['correct'].mean().plot(kind='bar')"
   ]
  },
  {
   "cell_type": "code",
   "execution_count": 87,
   "metadata": {},
   "outputs": [
    {
     "data": {
      "image/png": "[encoded data removed]",
      "text/plain": [
       "<Figure size 1200x600 with 1 Axes>"
      ]
     },
     "metadata": {},
     "output_type": "display_data"
    }
   ],
   "source": [
    "# qlora_vs_no_qlora = df[(df['is_instr']==True) & (df['is_full']==False) & (df['is_reinit']==False)]\n",
    "# qlora_vs_no_qlora = qlora_vs_no_qlora[qlora_vs_no_qlora['correct']!='none']\n",
    "# qlora_vs_no_qlora.groupby(['model_path','qlora'])['correct'].mean().plot(kind='bar')\n",
    "qlora_vs_no_qlora = df[(df['is_instr']==True) & (df['is_full']==False) & (df['is_reinit']==False)]\n",
    "qlora_vs_no_qlora = qlora_vs_no_qlora[qlora_vs_no_qlora['correct']!='none']\n",
    "\n",
    "# Group by model_path and qlora, then calculate mean of 'correct'\n",
    "grouped_data = qlora_vs_no_qlora.groupby(['model_name', 'qlora'])['correct'].mean().unstack()\n",
    "\n",
    "# Create a bar chart with side-by-side bars for each model\n",
    "ax = grouped_data.plot(kind='bar', figsize=(12, 6))\n",
    "\n",
    "# Customize the chart\n",
    "ax.set_ylabel('Accuracy')\n",
    "ax.set_title('Model Performance: QLoRA vs No QLoRA with Instruct')\n",
    "ax.legend(['No QLoRA', 'QLoRA'] if False in grouped_data.columns else ['QLoRA'])\n",
    "\n",
    "# Add value labels on top of each bar\n",
    "for container in ax.containers:\n",
    "    ax.bar_label(container, fmt='%.2f', padding=3)\n",
    "\n",
    "plt.tight_layout()\n",
    "ax.spines['top'].set_visible(False)\n",
    "ax.spines['right'].set_visible(False)\n",
    "plt.savefig('../plots/qlora_vs_no_qlora.jpg', dpi=300, bbox_inches='tight')\n",
    "plt.show()\n"
   ]
  },
  {
   "cell_type": "code",
   "execution_count": 88,
   "metadata": {},
   "outputs": [
    {
     "data": {
      "text/html": [
       "<div>\n",
       "<style scoped>\n",
       "    .dataframe tbody tr th:only-of-type {\n",
       "        vertical-align: middle;\n",
       "    }\n",
       "\n",
       "    .dataframe tbody tr th {\n",
       "        vertical-align: top;\n",
       "    }\n",
       "\n",
       "    .dataframe thead th {\n",
       "        text-align: right;\n",
       "    }\n",
       "</style>\n",
       "<table border=\"1\" class=\"dataframe\">\n",
       "  <thead>\n",
       "    <tr style=\"text-align: right;\">\n",
       "      <th></th>\n",
       "      <th>model_name</th>\n",
       "      <th>model_path</th>\n",
       "      <th>is_instr</th>\n",
       "      <th>is_reinit</th>\n",
       "      <th>is_full</th>\n",
       "      <th>model_size</th>\n",
       "      <th>prediction</th>\n",
       "      <th>label</th>\n",
       "      <th>correct</th>\n",
       "      <th>qlora</th>\n",
       "      <th>is_error</th>\n",
       "    </tr>\n",
       "  </thead>\n",
       "  <tbody>\n",
       "    <tr>\n",
       "      <th>800</th>\n",
       "      <td>llama-3.2-3b</td>\n",
       "      <td>qlora-llama-3.2-3b-instruct</td>\n",
       "      <td>True</td>\n",
       "      <td>False</td>\n",
       "      <td>False</td>\n",
       "      <td>3</td>\n",
       "      <td>0</td>\n",
       "      <td>0</td>\n",
       "      <td>1.0</td>\n",
       "      <td>True</td>\n",
       "      <td>False</td>\n",
       "    </tr>\n",
       "    <tr>\n",
       "      <th>801</th>\n",
       "      <td>llama-3.2-3b</td>\n",
       "      <td>qlora-llama-3.2-3b-instruct</td>\n",
       "      <td>True</td>\n",
       "      <td>False</td>\n",
       "      <td>False</td>\n",
       "      <td>3</td>\n",
       "      <td>0</td>\n",
       "      <td>0</td>\n",
       "      <td>1.0</td>\n",
       "      <td>True</td>\n",
       "      <td>False</td>\n",
       "    </tr>\n",
       "    <tr>\n",
       "      <th>802</th>\n",
       "      <td>llama-3.2-3b</td>\n",
       "      <td>qlora-llama-3.2-3b-instruct</td>\n",
       "      <td>True</td>\n",
       "      <td>False</td>\n",
       "      <td>False</td>\n",
       "      <td>3</td>\n",
       "      <td>1</td>\n",
       "      <td>1</td>\n",
       "      <td>1.0</td>\n",
       "      <td>True</td>\n",
       "      <td>False</td>\n",
       "    </tr>\n",
       "    <tr>\n",
       "      <th>803</th>\n",
       "      <td>llama-3.2-3b</td>\n",
       "      <td>qlora-llama-3.2-3b-instruct</td>\n",
       "      <td>True</td>\n",
       "      <td>False</td>\n",
       "      <td>False</td>\n",
       "      <td>3</td>\n",
       "      <td>1</td>\n",
       "      <td>0</td>\n",
       "      <td>0.0</td>\n",
       "      <td>True</td>\n",
       "      <td>False</td>\n",
       "    </tr>\n",
       "    <tr>\n",
       "      <th>804</th>\n",
       "      <td>llama-3.2-3b</td>\n",
       "      <td>qlora-llama-3.2-3b-instruct</td>\n",
       "      <td>True</td>\n",
       "      <td>False</td>\n",
       "      <td>False</td>\n",
       "      <td>3</td>\n",
       "      <td>0</td>\n",
       "      <td>1</td>\n",
       "      <td>0.0</td>\n",
       "      <td>True</td>\n",
       "      <td>False</td>\n",
       "    </tr>\n",
       "    <tr>\n",
       "      <th>...</th>\n",
       "      <td>...</td>\n",
       "      <td>...</td>\n",
       "      <td>...</td>\n",
       "      <td>...</td>\n",
       "      <td>...</td>\n",
       "      <td>...</td>\n",
       "      <td>...</td>\n",
       "      <td>...</td>\n",
       "      <td>...</td>\n",
       "      <td>...</td>\n",
       "      <td>...</td>\n",
       "    </tr>\n",
       "    <tr>\n",
       "      <th>2795</th>\n",
       "      <td>llama-3.2-3b</td>\n",
       "      <td>qlora-llama-3.2-3b</td>\n",
       "      <td>False</td>\n",
       "      <td>False</td>\n",
       "      <td>False</td>\n",
       "      <td>3</td>\n",
       "      <td>0</td>\n",
       "      <td>0</td>\n",
       "      <td>1.0</td>\n",
       "      <td>True</td>\n",
       "      <td>False</td>\n",
       "    </tr>\n",
       "    <tr>\n",
       "      <th>2796</th>\n",
       "      <td>llama-3.2-3b</td>\n",
       "      <td>qlora-llama-3.2-3b</td>\n",
       "      <td>False</td>\n",
       "      <td>False</td>\n",
       "      <td>False</td>\n",
       "      <td>3</td>\n",
       "      <td>0</td>\n",
       "      <td>0</td>\n",
       "      <td>1.0</td>\n",
       "      <td>True</td>\n",
       "      <td>False</td>\n",
       "    </tr>\n",
       "    <tr>\n",
       "      <th>2797</th>\n",
       "      <td>llama-3.2-3b</td>\n",
       "      <td>qlora-llama-3.2-3b</td>\n",
       "      <td>False</td>\n",
       "      <td>False</td>\n",
       "      <td>False</td>\n",
       "      <td>3</td>\n",
       "      <td>0</td>\n",
       "      <td>0</td>\n",
       "      <td>1.0</td>\n",
       "      <td>True</td>\n",
       "      <td>False</td>\n",
       "    </tr>\n",
       "    <tr>\n",
       "      <th>2798</th>\n",
       "      <td>llama-3.2-3b</td>\n",
       "      <td>qlora-llama-3.2-3b</td>\n",
       "      <td>False</td>\n",
       "      <td>False</td>\n",
       "      <td>False</td>\n",
       "      <td>3</td>\n",
       "      <td>0</td>\n",
       "      <td>0</td>\n",
       "      <td>1.0</td>\n",
       "      <td>True</td>\n",
       "      <td>False</td>\n",
       "    </tr>\n",
       "    <tr>\n",
       "      <th>2799</th>\n",
       "      <td>llama-3.2-3b</td>\n",
       "      <td>qlora-llama-3.2-3b</td>\n",
       "      <td>False</td>\n",
       "      <td>False</td>\n",
       "      <td>False</td>\n",
       "      <td>3</td>\n",
       "      <td>0</td>\n",
       "      <td>0</td>\n",
       "      <td>1.0</td>\n",
       "      <td>True</td>\n",
       "      <td>False</td>\n",
       "    </tr>\n",
       "  </tbody>\n",
       "</table>\n",
       "<p>1200 rows × 11 columns</p>\n",
       "</div>"
      ],
      "text/plain": [
       "        model_name                   model_path  is_instr  is_reinit  is_full  \\\n",
       "800   llama-3.2-3b  qlora-llama-3.2-3b-instruct      True      False    False   \n",
       "801   llama-3.2-3b  qlora-llama-3.2-3b-instruct      True      False    False   \n",
       "802   llama-3.2-3b  qlora-llama-3.2-3b-instruct      True      False    False   \n",
       "803   llama-3.2-3b  qlora-llama-3.2-3b-instruct      True      False    False   \n",
       "804   llama-3.2-3b  qlora-llama-3.2-3b-instruct      True      False    False   \n",
       "...            ...                          ...       ...        ...      ...   \n",
       "2795  llama-3.2-3b           qlora-llama-3.2-3b     False      False    False   \n",
       "2796  llama-3.2-3b           qlora-llama-3.2-3b     False      False    False   \n",
       "2797  llama-3.2-3b           qlora-llama-3.2-3b     False      False    False   \n",
       "2798  llama-3.2-3b           qlora-llama-3.2-3b     False      False    False   \n",
       "2799  llama-3.2-3b           qlora-llama-3.2-3b     False      False    False   \n",
       "\n",
       "      model_size prediction label correct  qlora  is_error  \n",
       "800            3          0     0     1.0   True     False  \n",
       "801            3          0     0     1.0   True     False  \n",
       "802            3          1     1     1.0   True     False  \n",
       "803            3          1     0     0.0   True     False  \n",
       "804            3          0     1     0.0   True     False  \n",
       "...          ...        ...   ...     ...    ...       ...  \n",
       "2795           3          0     0     1.0   True     False  \n",
       "2796           3          0     0     1.0   True     False  \n",
       "2797           3          0     0     1.0   True     False  \n",
       "2798           3          0     0     1.0   True     False  \n",
       "2799           3          0     0     1.0   True     False  \n",
       "\n",
       "[1200 rows x 11 columns]"
      ]
     },
     "execution_count": 88,
     "metadata": {},
     "output_type": "execute_result"
    }
   ],
   "source": [
    "df[df['model_name']=='llama-3.2-3b']"
   ]
  },
  {
   "cell_type": "code",
   "execution_count": 89,
   "metadata": {},
   "outputs": [
    {
     "data": {
      "image/png": "[encoded data removed]",
      "text/plain": [
       "<Figure size 1200x600 with 1 Axes>"
      ]
     },
     "metadata": {},
     "output_type": "display_data"
    }
   ],
   "source": [
    "base_it = df[(df['qlora']==True) & (df['is_full']==False) & (df['is_reinit']==False)]\n",
    "base_it = base_it[base_it['correct']!='none']\n",
    "\n",
    "\n",
    "\n",
    "# Group by model_path and qlora, then calculate mean of 'correct'\n",
    "grouped_data = base_it.groupby(['model_name','is_instr'])['correct'].mean().unstack()\n",
    "\n",
    "# Create a bar chart with side-by-side bars for each model\n",
    "ax = grouped_data.plot(kind='bar', figsize=(12, 6))\n",
    "\n",
    "# Customize the chart\n",
    "ax.set_ylabel('Accuracy')\n",
    "ax.set_title('Model Performance: Instruct vs base finetuning')\n",
    "ax.legend(['Base', 'Instruct'] if False in grouped_data.columns else ['Instruct'])\n",
    "\n",
    "# Add value labels on top of each bar\n",
    "for container in ax.containers:\n",
    "    ax.bar_label(container, fmt='%.2f', padding=3)\n",
    "\n",
    "plt.tight_layout()\n",
    "ax.spines['top'].set_visible(False)\n",
    "ax.spines['right'].set_visible(False)\n",
    "plt.savefig('../plots/instr_vs_not_instr.jpg', dpi=300, bbox_inches='tight')\n",
    "plt.show()\n",
    "\n"
   ]
  },
  {
   "cell_type": "code",
   "execution_count": 55,
   "metadata": {},
   "outputs": [],
   "source": [
    "# full vs not full\n",
    "full_mean = df[df['is_full'] == True]['correct'].mean()\n",
    "not_full_mean = df[(df['is_full'] == False) & (df['is_instr']==True) & (df['qlora']==True) & (df['is_reinit']==False) & (df['model_size']==3)]['correct'].mean()"
   ]
  },
  {
   "cell_type": "code",
   "execution_count": 34,
   "metadata": {},
   "outputs": [
    {
     "name": "stdout",
     "output_type": "stream",
     "text": [
      "Full mean: 0.6175, Not full mean: 0.69\n"
     ]
    }
   ],
   "source": [
    "print(f'Full mean: {full_mean}, Not full mean: {not_full_mean}')"
   ]
  },
  {
   "cell_type": "code",
   "execution_count": 90,
   "metadata": {},
   "outputs": [
    {
     "data": {
      "text/plain": [
       "0.585"
      ]
     },
     "execution_count": 90,
     "metadata": {},
     "output_type": "execute_result"
    }
   ],
   "source": [
    "df[df['is_reinit'] == True]['correct'].mean()"
   ]
  },
  {
   "cell_type": "code",
   "execution_count": 91,
   "metadata": {},
   "outputs": [
    {
     "data": {
      "text/plain": [
       "0.69"
      ]
     },
     "execution_count": 91,
     "metadata": {},
     "output_type": "execute_result"
    }
   ],
   "source": [
    "df[(df['is_reinit'] == False) & (df['is_full'] == False) & (df['is_instr'] == True) & (df['qlora'] == True) & (df['model_size'] == 3)]['correct'].mean()"
   ]
  },
  {
   "cell_type": "markdown",
   "metadata": {},
   "source": [
    "logits? "
   ]
  },
  {
   "cell_type": "code",
   "execution_count": null,
   "metadata": {},
   "outputs": [],
   "source": [
    "\n",
    "test_name = 'test_logits.json'\n",
    "\n",
    "data_list = []\n",
    "for model in models:\n",
    "    with open(f'../train_data/predictions/{model}/{test_name}', 'r') as f:\n",
    "        data = json.load(f)\n",
    "        for text, label in zip(data['predictions'], data['labels']):\n",
    "            label = str(label)\n",
    "            if model == '3b_qlora_single_device_instruct-reinit':\n",
    "                is_reinit = True\n",
    "                qlora = True\n",
    "                is_instr = True\n",
    "            elif model == 'qlora-llama-3.1-3b-instruct-full':\n",
    "                is_full = True\n",
    "                qlora = True\n",
    "            else:\n",
    "                is_reinit = False\n",
    "                is_full = False\n",
    "                qlora = 'qlora' in model\n",
    "            model_name = model_name_mapping[model]  \n",
    "            model_size = model_size_mapping[model_name]\n",
    "            data_list.append(ModelData(model_name=model_name, model_path=model, is_instr=model.endswith('instruct'), model_size=model_size, prediction=text, label=label, correct=check_score(text, label), is_reinit=is_reinit, is_full=is_full, qlora=qlora))\n",
    "\n",
    "\n"
   ]
  }
 ],
 "metadata": {
  "kernelspec": {
   "display_name": "folktexts",
   "language": "python",
   "name": "python3"
  },
  "language_info": {
   "codemirror_mode": {
    "name": "ipython",
    "version": 3
   },
   "file_extension": ".py",
   "mimetype": "text/x-python",
   "name": "python",
   "nbconvert_exporter": "python",
   "pygments_lexer": "ipython3",
   "version": "3.12.8"
  }
 },
 "nbformat": 4,
 "nbformat_minor": 2
}
